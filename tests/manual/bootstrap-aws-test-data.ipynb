{
 "cells": [
  {
   "attachments": {},
   "cell_type": "markdown",
   "metadata": {},
   "source": [
    "# bootstrap test data \n",
    "\n",
    "a notebook to quickly add some test data to play around with the app in your aws env. Based off data that was returned from [google bard](https://bard.google.com/) :).prompt was:\n",
    "```\n",
    "give me test data for a dynamodb table where the partition key and sort key are named pk and sk\n",
    "``` "
   ]
  },
  {
   "cell_type": "code",
   "execution_count": 6,
   "metadata": {},
   "outputs": [],
   "source": [
    "import boto3\n",
    "import json\n",
    "import os\n",
    "from decimal import Decimal as D\n",
    "import random\n",
    "import uuid\n"
   ]
  },
  {
   "cell_type": "code",
   "execution_count": 7,
   "metadata": {},
   "outputs": [],
   "source": [
    "#change to your own aws profile\n",
    "os.environ[\"AWS_PROFILE\"] = \"dev\"\n",
    "#change to your own table\n",
    "table = boto3.resource(\"dynamodb\").Table(\"test-table\")"
   ]
  },
  {
   "cell_type": "code",
   "execution_count": 10,
   "metadata": {},
   "outputs": [],
   "source": [
    "items = [\n",
    "    {\n",
    "        \"pk\": \"1234567890\",\n",
    "        \"sk\": \"JohnDoe\",\n",
    "        \"name\": \"John Doe\",\n",
    "        \"email\": \"john.doe@example.com\",\n",
    "        \"phone\": \"123-456-7890\",\n",
    "    },\n",
    "    {\n",
    "        \"pk\": \"9876543210\",\n",
    "        \"sk\": \"JaneDoe\",\n",
    "        \"name\": \"Jane Doe\",\n",
    "        \"email\": \"jane.doe@example.com\",\n",
    "        \"phone\": \"456-789-0123\",\n",
    "    },\n",
    "    *[\n",
    "        {\n",
    "            \"pk\": \"1234567890\",\n",
    "            \"sk\": f\"Order{index}\",\n",
    "            \"orderId\": str(uuid.uuid4()),\n",
    "            \"orderDate\": f\"2023-{random.randint(1,12)}-{random.randint(1, 30)}\",\n",
    "            \"totalAmount\": round(D(random.uniform(1, 10000)), 2),\n",
    "        }\n",
    "        for index in range(1, 100)\n",
    "    ],\n",
    "    *[\n",
    "        {\n",
    "            \"pk\": \"9876543210\",\n",
    "            \"sk\": f\"Order{index}\",\n",
    "            \"orderId\": str(uuid.uuid4()),\n",
    "            \"orderDate\": f\"2023-{random.randint(1,12)}-{random.randint(1, 30)}\",\n",
    "            \"totalAmount\": round(D(random.uniform(1, 10000)), 2),\n",
    "        }\n",
    "        for index in range(1, 100)\n",
    "    ],\n",
    "]\n",
    "\n"
   ]
  },
  {
   "cell_type": "code",
   "execution_count": 11,
   "metadata": {},
   "outputs": [],
   "source": [
    "for item in items:\n",
    "    table.put_item(Item=item)"
   ]
  }
 ],
 "metadata": {
  "kernelspec": {
   "display_name": "dyna-cli-iGbQMlYs-py3.10",
   "language": "python",
   "name": "python3"
  },
  "language_info": {
   "codemirror_mode": {
    "name": "ipython",
    "version": 3
   },
   "file_extension": ".py",
   "mimetype": "text/x-python",
   "name": "python",
   "nbconvert_exporter": "python",
   "pygments_lexer": "ipython3",
   "version": "3.10.7"
  },
  "orig_nbformat": 4
 },
 "nbformat": 4,
 "nbformat_minor": 2
}
