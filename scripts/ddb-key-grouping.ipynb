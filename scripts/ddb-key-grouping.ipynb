{
 "cells": [
  {
   "cell_type": "code",
   "execution_count": null,
   "id": "fdbb985b",
   "metadata": {},
   "outputs": [],
   "source": [
    "from collections import defaultdict\n",
    "import json\n",
    "from decimal import Decimal\n",
    "\n",
    "from boto3.dynamodb.conditions import Key, Attr\n",
    "import pandas as pd\n",
    "\n",
    "\n",
    "import sys\n",
    "import os\n",
    "\n",
    "\n",
    "from dyno_viewer.aws.ddb import (\n",
    "    scan_items,\n",
    "    get_table,\n",
    "    serialise_dynamodb_json,\n",
    "    get_table_info,\n",
    ")\n",
    "\n",
    "\n",
    "class DecimalEncoder(json.JSONEncoder):\n",
    "    \"\"\"Helper class to convert Decimal types to numbers for JSON serialization.\"\"\"\n",
    "\n",
    "    def default(self, obj):\n",
    "        if isinstance(obj, Decimal):\n",
    "            return float(obj) if \".\" in str(obj) else int(obj)\n",
    "        return super(DecimalEncoder, self).default(obj)"
   ]
  },
  {
   "cell_type": "code",
   "execution_count": null,
   "id": "1473691d",
   "metadata": {},
   "outputs": [],
   "source": []
  },
  {
   "cell_type": "code",
   "execution_count": null,
   "id": "3ff5c94b",
   "metadata": {},
   "outputs": [],
   "source": [
    "table = get_table(\"somebank\", \"ap-southeast-2\", None)"
   ]
  },
  {
   "cell_type": "code",
   "execution_count": null,
   "id": "84ed49e8",
   "metadata": {},
   "outputs": [],
   "source": [
    "items, _ = scan_items(table, paginate=False)"
   ]
  },
  {
   "cell_type": "code",
   "execution_count": null,
   "id": "d0def552",
   "metadata": {},
   "outputs": [],
   "source": [
    "items"
   ]
  },
  {
   "cell_type": "code",
   "execution_count": null,
   "id": "a7da8a41",
   "metadata": {},
   "outputs": [],
   "source": [
    "table_info = get_table_info(table)\n",
    "primary_key = table_info[\"keySchema\"][\"primaryKey\"]\n",
    "sort_key = table_info[\"keySchema\"].get(\"sortKey\")"
   ]
  },
  {
   "cell_type": "markdown",
   "id": "a9e1ae70",
   "metadata": {},
   "source": [
    "## v2"
   ]
  },
  {
   "cell_type": "code",
   "execution_count": null,
   "id": "70d157e9",
   "metadata": {},
   "outputs": [],
   "source": [
    "def group_by_primary_sort_key(items, primary_key, sort_key) -> dict:\n",
    "    result = defaultdict(list)\n",
    "    for item in items:\n",
    "        pk_value = item.get(primary_key)\n",
    "        sk_value = item.get(sort_key)\n",
    "        if not pk_value and not sk_value:\n",
    "            continue\n",
    "        result[(pk_value, sk_value)].append(item)\n",
    "    return dict(result)"
   ]
  },
  {
   "cell_type": "code",
   "execution_count": null,
   "id": "7d8fde70",
   "metadata": {},
   "outputs": [],
   "source": [
    "group_pk_sk = group_by_primary_sort_key(items, primary_key, sort_key)"
   ]
  },
  {
   "cell_type": "code",
   "execution_count": null,
   "id": "00719ec0",
   "metadata": {},
   "outputs": [],
   "source": [
    "df_group_pk_sk = (\n",
    "    pd.DataFrame(group_pk_sk)\n",
    "    .T.reset_index()\n",
    "    .rename(columns={\"level_0\": \"primary_key\", \"level_1\": \"sort_key\", 0: \"payload\"})\n",
    ")"
   ]
  },
  {
   "cell_type": "code",
   "execution_count": null,
   "id": "5d352e1f",
   "metadata": {},
   "outputs": [],
   "source": [
    "result = defaultdict(set)\n",
    "for item in items:\n",
    "    pk_value = item.get(primary_key)\n",
    "    sk_value = item.get(sort_key)\n",
    "    if not pk_value and not sk_value:\n",
    "        continue\n",
    "    result[(pk_value, sk_value)].update(item.keys()) "
   ]
  },
  {
   "cell_type": "code",
   "execution_count": null,
   "id": "335fd066",
   "metadata": {},
   "outputs": [],
   "source": [
    "dict(result)"
   ]
  },
  {
   "cell_type": "code",
   "execution_count": null,
   "id": "890b9eb1",
   "metadata": {},
   "outputs": [],
   "source": [
    "result = defaultdict(dict)\n",
    "for item in items:\n",
    "    pk_value = item.get(primary_key)\n",
    "    sk_value = item.get(sort_key)\n",
    "    if not pk_value and not sk_value:\n",
    "        continue\n",
    "    for k, v in item.items():\n",
    "        result[(pk_value, sk_value)].setdefault(k, []).append(type(v))\n",
    "\n",
    "dict(result)"
   ]
  },
  {
   "cell_type": "code",
   "execution_count": null,
   "id": "6ea0dd40",
   "metadata": {},
   "outputs": [],
   "source": [
    "def ddb_item_schema(\n",
    "    items: list[dict],\n",
    "    primary_key: str,\n",
    "    sort_key: str,\n",
    "    model_name_attr: str | None = None,\n",
    ") -> dict:\n",
    "    \"\"\"Generate a schema for DynamoDB items based on their primary and sort keys.\n",
    "\n",
    "    :param items: List of DynamoDB items\n",
    "    :type items: list[dict]\n",
    "    :param primary_key: Primary key attribute name\n",
    "    :type primary_key: str\n",
    "    :param sort_key: Sort key attribute name\n",
    "    :type sort_key: str\n",
    "    :param model_name_attr: Optional attribute for the item name that is used to define what the item is (e.g. \"customer\", \"order\")\n",
    "    :type model_name_attr: str | None\n",
    "\n",
    "    :return: A dictionary with primary keys and sort keys as keys and their types as values\n",
    "    :rtype: dict\n",
    "    \"\"\"\n",
    "    result = defaultdict(dict)\n",
    "    for item in items:\n",
    "        pk_value = item.get(primary_key)\n",
    "        sk_value = item.get(sort_key)\n",
    "        ddb_model_name = item.get(model_name_attr)\n",
    "        if not pk_value and not sk_value:\n",
    "            continue\n",
    "        result[(pk_value, sk_value)] = {\"model_name\": ddb_model_name, \"type\": {}}\n",
    "\n",
    "        for k, v in item.items():\n",
    "            result[(pk_value, sk_value)][\"type\"].setdefault(k, []).append(type(v))\n",
    "    return dict(result)"
   ]
  },
  {
   "cell_type": "code",
   "execution_count": null,
   "id": "078f145c",
   "metadata": {},
   "outputs": [],
   "source": [
    "schema = ddb_item_schema(items, primary_key, sort_key, model_name_attr=\"type\")\n",
    "{v[\"model_name\"] for v in schema.values() if v[\"model_name\"]}"
   ]
  },
  {
   "cell_type": "code",
   "execution_count": null,
   "id": "ab89e320",
   "metadata": {},
   "outputs": [],
   "source": [
    "from typing import Dict, List, Any, Optional, Set, Type, Union\n",
    "from pydantic import BaseModel, Field, create_model\n",
    "\n",
    "\n",
    "def generate_pydantic_models(schema: dict) -> Dict[str, Type[BaseModel]]:\n",
    "    \"\"\"\n",
    "    Generate Pydantic models from the schema returned by ddb_item_schema.\n",
    "\n",
    "    :param schema: Dictionary with (pk, sk) tuples as keys and schema dictionaries as values\n",
    "    :type schema: dict\n",
    "\n",
    "    :return: Dictionary mapping model names to Pydantic model classes\n",
    "    :rtype: Dict[str, Type[BaseModel]]\n",
    "    \"\"\"\n",
    "    models = {}\n",
    "\n",
    "    # Group items by entity type\n",
    "    for (pk, sk), schema_dict in schema.items():\n",
    "        # Extract entity type from pk and sk\n",
    "        pk_prefix = pk.split(\"#\")[0] if \"#\" in pk else pk\n",
    "        sk_prefix = sk.split(\"#\")[0] if \"#\" in sk else sk\n",
    "\n",
    "        # Use model_name if available, otherwise use pk/sk combo\n",
    "        model_name = schema_dict.get(\"model_name\") or f\"{pk_prefix}_{sk_prefix}\"\n",
    "\n",
    "        fields = {}\n",
    "        for attr_name, attr_types in schema_dict[\"type\"].items():\n",
    "            field_type = (\n",
    "                attr_types.pop() if len(attr_types) == 1 else Union[*attr_types]\n",
    "            )\n",
    "            fields[attr_name] = field_type\n",
    "        generated_model = create_model(model_name, **fields)\n",
    "        models[model_name] = generated_model\n",
    "\n",
    "    return models\n",
    "\n",
    "\n",
    "# Test the function with our sample schema\n",
    "schema = ddb_item_schema(items, primary_key, sort_key, model_name_attr=\"type\")\n",
    "pydantic_models = generate_pydantic_models(schema)\n"
   ]
  },
  {
   "cell_type": "code",
   "execution_count": null,
   "id": "1153dd45",
   "metadata": {},
   "outputs": [],
   "source": [
    "# Extract JSON schemas from each Pydantic model\n",
    "model_schemas = [model.model_json_schema() for model in pydantic_models.values()]\n",
    "\n",
    "\n",
    "# Write the schemas to a JSON file\n",
    "import os\n",
    "\n",
    "output_dir = os.path.join(os.path.dirname(os.getcwd()), \"output\")\n",
    "os.makedirs(output_dir, exist_ok=True)\n",
    "output_file = os.path.join(output_dir, \"ddb_model_schemas.json\")\n",
    "\n",
    "with open(output_file, \"w\") as f:\n",
    "    json.dump(model_schemas, f, indent=2)\n",
    "\n",
    "print(f\"Model schemas written to: {output_file}\")"
   ]
  },
  {
   "cell_type": "code",
   "execution_count": null,
   "id": "83ee978c",
   "metadata": {},
   "outputs": [],
   "source": []
  }
 ],
 "metadata": {
  "kernelspec": {
   "display_name": "dyno-viewer-py3.11 (3.11.9)",
   "language": "python",
   "name": "python3"
  },
  "language_info": {
   "codemirror_mode": {
    "name": "ipython",
    "version": 3
   },
   "file_extension": ".py",
   "mimetype": "text/x-python",
   "name": "python",
   "nbconvert_exporter": "python",
   "pygments_lexer": "ipython3",
   "version": "3.11.9"
  }
 },
 "nbformat": 4,
 "nbformat_minor": 5
}
